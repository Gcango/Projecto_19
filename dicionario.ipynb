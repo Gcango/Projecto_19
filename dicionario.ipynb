{
 "cells": [
  {
   "cell_type": "code",
   "execution_count": null,
   "metadata": {
    "vscode": {
     "languageId": "plaintext"
    }
   },
   "outputs": [],
   "source": [
    "Existem 25 variáveis:\n",
    "\n",
    "- ID: ID de cada cliente\n",
    "- LIMIT_BAL: Quantidade de crédito fornecido em dólares NT (inclui crédito individual e familiar/suplementar\n",
    "- SEX: Gênero (1=masculino, 2=feminino)\n",
    "- EDUCATION: (1=pós-graduação, 2=universidade, 3=ensino médio, 4=outros, 5=desconhecido, 6=desconhecido)\n",
    "- MARRIAGE: Estado civil (1=casado, 2=solteiro, 3=outros)\n",
    "- AGE: Idade em anos\n",
    "- PAY_0: Status de pagamento em setembro de 2005 (-1=pagamento em dia, 1=atraso de pagamento por um mês, 2=atraso de pagamento por dois meses, ... 8=atraso de pagamento por oito meses, 9=atraso de pagamento por nove meses e acima)\n",
    "- PAY_2: Status do pagamento em agosto de 2005 (escala igual à acima)\n",
    "- PAY_3: Status do pagamento em julho de 2005 (escala igual à acima)\n",
    "- PAY_4: Status do pagamento em junho de 2005 (escala igual à acima)\n",
    "- PAY_5: Status do pagamento em maio de 2005 (escala igual à acima)\n",
    "- PAY_6: Status do pagamento em abril de 2005 (escala igual à acima)\n",
    "- BILL_AMT1: Valor do extrato da conta em setembro de 2005 (dólar NT)\n",
    "- BILL_AMT2: Valor do extrato da conta em agosto de 2005 (dólar NT)\n",
    "- BILL_AMT3: Valor do extrato da conta em julho de 2005 (dólar NT)\n",
    "- BILL_AMT4: Valor do extrato da conta em junho de 2005 (NT dólar)\n",
    "- BILL_AMT5: Valor do extrato da conta em maio de 2005 (dólar NT)\n",
    "- BILL_AMT6: Valor do extrato da conta em abril de 2005 (dólar NT)\n",
    "- PAY_AMT1: Valor do pagamento anterior em setembro de 2005 (dólar NT)\n",
    "- PAY_AMT2: Valor do pagamento anterior em agosto de 2005 (dólar NT)\n",
    "- PAY_AMT3: Valor do pagamento anterior em julho de 2005 (dólar NT)\n",
    "- PAY_AMT4: Valor do pagamento anterior em junho de 2005 (dólar NT)\n",
    "- PAY_AMT5: Valor do pagamento anterior em maio de 2005 (dólar NT)\n",
    "- PAY_AMT6: Valor do pagamento anterior em abril de 2005 (dólar NT)\n",
    "default.payment.next.month: Pagamento padrão (1=sim, 0=não)"
   ]
  },
  {
   "cell_type": "code",
   "execution_count": null,
   "metadata": {
    "vscode": {
     "languageId": "plaintext"
    }
   },
   "outputs": [],
   "source": []
  }
 ],
 "metadata": {
  "language_info": {
   "name": "python"
  }
 },
 "nbformat": 4,
 "nbformat_minor": 2
}
